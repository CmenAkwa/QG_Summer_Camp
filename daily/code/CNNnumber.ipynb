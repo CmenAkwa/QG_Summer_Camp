{
 "cells": [
  {
   "cell_type": "code",
   "execution_count": 56,
   "id": "initial_id",
   "metadata": {
    "collapsed": true,
    "ExecuteTime": {
     "end_time": "2024-07-10T02:05:37.114805200Z",
     "start_time": "2024-07-10T02:05:37.097410400Z"
    }
   },
   "outputs": [],
   "source": [
    "import torch.nn as nn\n",
    "import torch.nn.functional as F\n",
    "import torchvision.transforms as transforms\n",
    "from torchvision import datasets\n",
    "from torch.utils.data import DataLoader\n",
    "from torch import optim\n",
    "import numpy as np\n",
    "import torch\n",
    "import os"
   ]
  },
  {
   "cell_type": "code",
   "outputs": [],
   "source": [
    "#mnist数据集是灰度图，分别是均值和标准差，操作后具有均值为0，标准差为1的特性\n",
    "Fashion_transforms = transforms.Compose([transforms.ToTensor(), transforms.Normalize((0.286,), (0.353,))])\n",
    "transform_to_tensor = transforms.ToTensor()\n",
    "#加载数据集\n",
    "data_train = datasets.FashionMNIST(root='./data', train=True, download=True, transform=Fashion_transforms)\n",
    "data_test = datasets.FashionMNIST(root='./data', train=False, download=True, transform=Fashion_transforms)\n",
    "#加载dataloader\n",
    "dataloader_train = DataLoader(dataset=data_train, batch_size=64, shuffle=True, drop_last=True)  #28x28\n",
    "dataloader_test = DataLoader(dataset=data_test, batch_size=64, shuffle=True, drop_last=True)\n",
    "#FashionMnist由图片和类别索引构成"
   ],
   "metadata": {
    "collapsed": false,
    "ExecuteTime": {
     "end_time": "2024-07-10T02:05:37.191948300Z",
     "start_time": "2024-07-10T02:05:37.114805200Z"
    }
   },
   "id": "4c6a52d58015e43",
   "execution_count": 57
  },
  {
   "cell_type": "code",
   "outputs": [
    {
     "name": "stdout",
     "output_type": "stream",
     "text": [
      "cuda is available? True\n"
     ]
    }
   ],
   "source": [
    "#用GPU\n",
    "device = torch.device(\"cuda\" if torch.cuda.is_available() else \"cpu\")\n",
    "print(\"cuda is available?\", torch.cuda.is_available())"
   ],
   "metadata": {
    "collapsed": false,
    "ExecuteTime": {
     "end_time": "2024-07-10T02:05:37.201589200Z",
     "start_time": "2024-07-10T02:05:37.190309400Z"
    }
   },
   "id": "16b70f9c868325e",
   "execution_count": 58
  },
  {
   "cell_type": "code",
   "outputs": [],
   "source": [
    "#网络结构\n",
    "class Net(nn.Module):\n",
    "    def __init__(self):\n",
    "        super(Net, self).__init__()\n",
    "        self.conv1 = nn.Conv2d(1, 32, kernel_size=5, stride=1, padding=1)  #灰度图像，通道数为1，有32个输出通道，也就是有32个卷积核产生图像，输出26x26\n",
    "        self.conv2 = nn.Conv2d(32, 64, kernel_size=3, stride=1, padding=1)  #第二层卷积，通道数为32，输出64，输出完变成\n",
    "        self.relu = nn.ReLU()\n",
    "        self.max_pool = nn.MaxPool2d(kernel_size=2, stride=2)\n",
    "        self.fc1 = nn.Linear(13 * 13 * 64, 10)  #返回十个数\n",
    "\n",
    "    def forward(self, x):\n",
    "        x = self.conv1(x)\n",
    "        x = self.relu(x)\n",
    "        x = self.conv2(x)\n",
    "        x = self.relu(x)\n",
    "        x = self.max_pool(x)\n",
    "        x = x.view(-1, 13 * 13 * 64)\n",
    "        #将池化层的输出x转换成一个一维数组，然后将其重新排列（reshape）成一个二维数组，其中第二维的大小是13*13*64，这里的13*13是池化后的特征图尺寸，64是通道数，-1表示第一维的大小由第二维的大小推导得出\n",
    "        x = self.fc1(x)\n",
    "        #x = F.softmax(x, dim=1)\n",
    "        return x"
   ],
   "metadata": {
    "collapsed": false,
    "ExecuteTime": {
     "end_time": "2024-07-10T02:05:37.237548300Z",
     "start_time": "2024-07-10T02:05:37.206630300Z"
    }
   },
   "id": "fde1d1e487a6de75",
   "execution_count": 59
  },
  {
   "cell_type": "code",
   "outputs": [
    {
     "name": "stdout",
     "output_type": "stream",
     "text": [
      "load model successfully\n"
     ]
    }
   ],
   "source": [
    "#模型\n",
    "model = Net().to(device)\n",
    "#优化器\n",
    "optimizer = optim.Adam(model.parameters(), lr=0.001, weight_decay=1e-4)  #weight_decay施加L2正则化\n",
    "#加载\n",
    "if os.path.exists(\"./FashionModel/model.pth\"):\n",
    "    model.load_state_dict(torch.load('./FashionModel/model.pth'))  # 加载保存的模型\n",
    "    optimizer.load_state_dict(torch.load('./FashionModel/optimizer.pth'))  # 加载保存的优化器，主要是学习率\n",
    "    print(\"load model successfully\")"
   ],
   "metadata": {
    "collapsed": false,
    "ExecuteTime": {
     "end_time": "2024-07-10T02:05:37.279119300Z",
     "start_time": "2024-07-10T02:05:37.219596900Z"
    }
   },
   "id": "1cb61a5d615e215",
   "execution_count": 60
  },
  {
   "cell_type": "code",
   "outputs": [],
   "source": [
    "#F1分数\n",
    "def f1_score(pred, targets):\n",
    "    beta = 1  # 通常使用F1分数时，beta为1\n",
    "    pred = pred.cpu().numpy()  # 确保预测结果在CPU上\n",
    "    targets = targets.cpu().numpy()\n",
    "    tp = np.sum((pred == 1) & (targets == 1))\n",
    "    fp = np.sum((pred == 1) & (targets == 0))\n",
    "    fn = np.sum((pred == 0) & (targets == 1))\n",
    "\n",
    "    if (tp + fp) == 0 or (tp + fn) == 0:\n",
    "        return 0.0#如果分母为0，返回0\n",
    "\n",
    "    precision = tp / (tp + fp)\n",
    "    recall = tp / (tp + fn)\n",
    "    f1 = (1 + beta ** 2) * precision * recall / (beta ** 2 * precision + recall)\n",
    "    return f1,precision,recall"
   ],
   "metadata": {
    "collapsed": false,
    "ExecuteTime": {
     "end_time": "2024-07-10T02:05:37.306694900Z",
     "start_time": "2024-07-10T02:05:37.286304500Z"
    }
   },
   "id": "cc428756d6559db3",
   "execution_count": 61
  },
  {
   "cell_type": "code",
   "outputs": [],
   "source": [
    "#训练\n",
    "def train(train_best_loss):\n",
    "    model.train()#训练模式\n",
    "    dataloader = dataloader_train\n",
    "    for idx, (inputs, labels) in enumerate(dataloader):\n",
    "        inputs, labels = inputs.to(device), labels.to(device)  # 移动数据到 GPU\n",
    "        optimizer.zero_grad()\n",
    "        outputs = model(inputs)\n",
    "        loss = F.cross_entropy(outputs, target=labels)\n",
    "        loss.backward()\n",
    "        optimizer.step()\n",
    "        if loss < train_best_loss:\n",
    "            train_best_loss = loss\n",
    "            print(\"idx:\", idx, \"current best loss:\", train_best_loss.item())\n",
    "            torch.save(model.state_dict(), \"./FashionModel/model.pth\")\n",
    "            torch.save(optimizer.state_dict(), \"./FashionModel/optimizer.pth\")\n",
    "    return train_best_loss"
   ],
   "metadata": {
    "collapsed": false,
    "ExecuteTime": {
     "end_time": "2024-07-10T02:05:37.308693500Z",
     "start_time": "2024-07-10T02:05:37.299183200Z"
    }
   },
   "id": "30f586c87ad0dc7",
   "execution_count": 62
  },
  {
   "cell_type": "code",
   "outputs": [],
   "source": [
    "def test():\n",
    "    model.eval()  #评估模式\n",
    "    data_loader = dataloader_test\n",
    "    acc_list = []\n",
    "    f1_list=[]#f1分数\n",
    "    precision_list=[]#精准度:指模型认为的正类别中，有多少个是真正的正类别\n",
    "    recall_list=[]#召回率:在全部的正类别中，找到了多少个正类别\n",
    "    with torch.no_grad():\n",
    "        for idx, (inputs, labels) in enumerate(data_loader):\n",
    "            inputs, labels = inputs.to(device), labels.to(device)  # 确保数据在 GPU\n",
    "            outputs = model(inputs)\n",
    "            # 计算准确率\n",
    "            # output[batch_size,10] target[batch_size]\n",
    "            # 输出每一行都有十个数，代表对应0-9的概率，找出最大的概率代表着模型识别出来的值\n",
    "            pred = torch.max(outputs, dim=1)[1]#模型预测值\n",
    "            pred = pred.cpu()\n",
    "            cur_acc = pred.eq(labels.cpu()).float().mean().item()\n",
    "            acc_list.append(cur_acc)\n",
    "            \n",
    "            #计算f1\n",
    "            cur_f1,cur_precision,cur_recall=f1_score(pred.cpu(),labels.cpu())\n",
    "            f1_list.append(cur_f1)\n",
    "            precision_list.append(cur_precision)\n",
    "            recall_list.append(cur_recall)\n",
    "    print(\"平均准确率:\", np.mean(acc_list))\n",
    "    print(\"平均F1分数:\", np.mean(f1_list))\n",
    "    print(\"平均精准度:\",np.mean(precision_list))\n",
    "    print(\"平均召回率:\",np.mean(recall_list))"
   ],
   "metadata": {
    "collapsed": false,
    "ExecuteTime": {
     "end_time": "2024-07-10T02:05:37.340148100Z",
     "start_time": "2024-07-10T02:05:37.318948300Z"
    }
   },
   "id": "e929ef8b4000b267",
   "execution_count": 63
  },
  {
   "cell_type": "code",
   "outputs": [
    {
     "name": "stdout",
     "output_type": "stream",
     "text": [
      "idx: 0 current best loss: 0.12893064320087433\n",
      "idx: 1 current best loss: 0.05359765887260437\n",
      "idx: 46 current best loss: 0.05209989845752716\n",
      "idx: 50 current best loss: 0.03893166780471802\n",
      "idx: 72 current best loss: 0.02147693745791912\n",
      "idx: 75 current best loss: 0.020870789885520935\n",
      "平均准确率: 0.9026442307692307\n",
      "平均F1分数: 0.9969567469567471\n",
      "平均精准度: 0.9987179487179488\n",
      "平均召回率: 0.9957264957264957\n"
     ]
    }
   ],
   "source": [
    "best_loss = float('inf')\n",
    "for i in range(1):\n",
    "    best_loss = train(train_best_loss=best_loss)\n",
    "test()"
   ],
   "metadata": {
    "collapsed": false,
    "ExecuteTime": {
     "end_time": "2024-07-10T02:05:53.833662Z",
     "start_time": "2024-07-10T02:05:37.330986400Z"
    }
   },
   "id": "28c3faf9787d14ac",
   "execution_count": 64
  }
 ],
 "metadata": {
  "kernelspec": {
   "display_name": "Python 3",
   "language": "python",
   "name": "python3"
  },
  "language_info": {
   "codemirror_mode": {
    "name": "ipython",
    "version": 2
   },
   "file_extension": ".py",
   "mimetype": "text/x-python",
   "name": "python",
   "nbconvert_exporter": "python",
   "pygments_lexer": "ipython2",
   "version": "2.7.6"
  }
 },
 "nbformat": 4,
 "nbformat_minor": 5
}
