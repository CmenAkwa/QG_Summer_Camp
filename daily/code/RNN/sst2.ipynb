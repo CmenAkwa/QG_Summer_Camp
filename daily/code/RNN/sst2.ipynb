{
 "cells": [
  {
   "cell_type": "code",
   "execution_count": 11,
   "id": "6547c14a",
   "metadata": {
    "ExecuteTime": {
     "end_time": "2024-07-12T11:16:02.843054400Z",
     "start_time": "2024-07-12T11:16:02.774368400Z"
    }
   },
   "outputs": [],
   "source": [
    "import pandas as pd\n",
    "import torch\n",
    "from torch.utils.data import DataLoader\n",
    "#加载处理好的数据集,每句话是15个词\n",
    "data = pd.read_csv('sst2/data.csv')"
   ]
  },
  {
   "cell_type": "code",
   "execution_count": 12,
   "id": "0b855903",
   "metadata": {
    "scrolled": false,
    "ExecuteTime": {
     "end_time": "2024-07-12T11:16:02.857592200Z",
     "start_time": "2024-07-12T11:16:02.847061100Z"
    }
   },
   "outputs": [
    {
     "data": {
      "text/plain": "(65000,\n (tensor([  101,  5342,  2047,  3595,  8496,  2013,  1996, 18643,  3197,   102,\n              0,     0,     0,     0,     0], device='cuda:0'),\n  tensor(0, device='cuda:0')))"
     },
     "execution_count": 12,
     "metadata": {},
     "output_type": "execute_result"
    }
   ],
   "source": [
    "device = torch.device('cuda' if torch.cuda.is_available() else 'cpu')\n",
    "\n",
    "#定义数据集\n",
    "class Dataset(torch.utils.data.Dataset):\n",
    "\n",
    "    def __len__(self):\n",
    "        return len(data)\n",
    "\n",
    "    def __getitem__(self, i):\n",
    "        #取数据\n",
    "        x, y = data.iloc[i]\n",
    "\n",
    "        #以逗号分割x数据,转换为向量\n",
    "        x = [int(i) for i in x.split(',')]#列表推导式，把字符串x中，根据逗号分隔开来\n",
    "        x = torch.LongTensor(x).to(device)\n",
    "        \n",
    "        #y不需要太特别的处理\n",
    "        y = int(y)\n",
    "        y = torch.tensor(y, dtype=torch.long).to(device)\n",
    "        return x, y\n",
    "\n",
    "\n",
    "dataset = Dataset()\n",
    "\n",
    "len(dataset), dataset[0]"
   ]
  },
  {
   "cell_type": "code",
   "execution_count": 13,
   "id": "b5fd0e99",
   "metadata": {
    "scrolled": true,
    "ExecuteTime": {
     "end_time": "2024-07-12T11:16:02.905245Z",
     "start_time": "2024-07-12T11:16:02.859595700Z"
    }
   },
   "outputs": [
    {
     "data": {
      "text/plain": "(8125,\n [tensor([[  101,  1996,  3185,  2003,  8990,  2302,  6123,  1011,  1011,  4988,\n            2594,  2030,  3439,  1012,   102],\n          [  101,  5248,  1998,  5729, 21407,   102,     0,     0,     0,     0,\n               0,     0,     0,     0,     0],\n          [  101, 19957,   102,     0,     0,     0,     0,     0,     0,     0,\n               0,     0,     0,     0,     0],\n          [  101, 10628,  5876,   102,     0,     0,     0,     0,     0,     0,\n               0,     0,     0,     0,     0],\n          [  101, 23438,   102,     0,     0,     0,     0,     0,     0,     0,\n               0,     0,     0,     0,     0],\n          [  101, 24970,  2015,  1999,  1996,  2396,  1997,  5263, 14489,  1013,\n            2128, 29098, 27242,  4490,   102],\n          [  101,  1037,  2882,  2778,   102,     0,     0,     0,     0,     0,\n               0,     0,     0,     0,     0],\n          [  101,  2003,  2738,  3653,  6528, 20771,   102,     0,     0,     0,\n               0,     0,     0,     0,     0]], device='cuda:0'),\n  tensor([0, 0, 1, 1, 0, 1, 1, 0], device='cuda:0')])"
     },
     "execution_count": 13,
     "metadata": {},
     "output_type": "execute_result"
    }
   ],
   "source": [
    "#数据集加载器\n",
    "loader = DataLoader(dataset=dataset,batch_size=8,shuffle=True,drop_last=True)\n",
    "len(loader), next(iter(loader))"
   ]
  },
  {
   "cell_type": "code",
   "execution_count": 14,
   "id": "42a20247",
   "metadata": {
    "scrolled": false,
    "ExecuteTime": {
     "end_time": "2024-07-12T11:16:02.981988900Z",
     "start_time": "2024-07-12T11:16:02.911250200Z"
    }
   },
   "outputs": [],
   "source": [
    "#全连接神经网络\n",
    "class Model(torch.nn.Module):\n",
    "\n",
    "    #模型初始化部分\n",
    "    def __init__(self):\n",
    "        super().__init__()\n",
    "\n",
    "        #词编码层,30522是词的数量,每个词会被编码为100维的向量\n",
    "        self.embed = torch.nn.Embedding(num_embeddings=30522,\n",
    "                                        embedding_dim=100)\n",
    "\n",
    "        #RNN单元\n",
    "        self.cell = torch.nn.GRUCell(input_size=100, hidden_size=512)\n",
    "\n",
    "        #线性输出\n",
    "        self.fc = torch.nn.Linear(in_features=512, out_features=2)\n",
    "\n",
    "    #定义神经网络计算过程\n",
    "    def forward(self, x):\n",
    "\n",
    "        #每个词编码为100维的向量\n",
    "        #[8, 15] -> [8, 15, 100]\n",
    "        x = self.embed(x)\n",
    "\n",
    "        #初始记忆为空\n",
    "        h = None\n",
    "\n",
    "        #从前向后读句子中的每一个词\n",
    "        for i in range(x.shape[1]):\n",
    "            #[8, 100],[8, 512] -> [8, 512]\n",
    "            h = self.cell(x[:, i], h)\n",
    "\n",
    "        #根据最后一个词的记忆,分类整句话\n",
    "        #[8, 512] -> [8, 2]\n",
    "        return self.fc(h)\n",
    "\n",
    "\n",
    "model = Model().to(device)\n",
    "input_tensor = torch.ones(8, 15).long().to(device)\n",
    "output = model(input_tensor)"
   ]
  },
  {
   "cell_type": "code",
   "execution_count": 15,
   "id": "233d2672",
   "metadata": {
    "scrolled": true,
    "ExecuteTime": {
     "end_time": "2024-07-12T11:19:06.736489800Z",
     "start_time": "2024-07-12T11:16:02.988524500Z"
    }
   },
   "outputs": [
    {
     "name": "stdout",
     "output_type": "stream",
     "text": [
      "0 0 0.6796548366546631 0.5\n",
      "0 2000 0.7838699221611023 0.5\n",
      "0 4000 0.1984056681394577 1.0\n",
      "0 6000 0.22403311729431152 0.875\n",
      "0 8000 0.0984111875295639 1.0\n",
      "1 0 0.1287842094898224 0.875\n",
      "1 2000 0.27253472805023193 0.75\n",
      "1 4000 0.017153438180685043 1.0\n",
      "1 6000 0.16958963871002197 0.875\n",
      "1 8000 0.7404332160949707 0.875\n"
     ]
    }
   ],
   "source": [
    "#训练\n",
    "def train():\n",
    "    optimizer = torch.optim.Adam(model.parameters(), lr=0.001)\n",
    "    loss_fun = torch.nn.CrossEntropyLoss()\n",
    "    model.train()\n",
    "\n",
    "    for epoch in range(2):\n",
    "        for i, (x, y) in enumerate(loader):\n",
    "            x, y = x.to(device), y.to(device)\n",
    "            out = model(x)\n",
    "            loss = loss_fun(out, y)\n",
    "            loss.backward()\n",
    "            optimizer.step()\n",
    "            optimizer.zero_grad()\n",
    "\n",
    "            if i % 2000 == 0:\n",
    "                acc = (out.argmax(dim=1) == y).sum().item() / len(y)\n",
    "                print(epoch, i, loss.item(), acc)\n",
    "\n",
    "    torch.save(model, 'model/7.model')\n",
    "\n",
    "\n",
    "train()"
   ]
  },
  {
   "cell_type": "code",
   "outputs": [
    {
     "name": "stdout",
     "output_type": "stream",
     "text": [
      "0.93625\n"
     ]
    }
   ],
   "source": [
    "#测试\n",
    "torch.no_grad()\n",
    "def test():\n",
    "    model = torch.load('model/7.model')\n",
    "    model.eval()\n",
    "    model.to(device)\n",
    "    correct = 0\n",
    "    total = 0\n",
    "    for i in range(100):\n",
    "        x, y = next(iter(loader))\n",
    "        x, y = x.to(device), y.to(device)\n",
    "        out = model(x).argmax(dim=1).to(device)\n",
    "        correct += (out == y).sum().item()\n",
    "        total += len(y)\n",
    "    print(correct / total)\n",
    "test()"
   ],
   "metadata": {
    "collapsed": false,
    "ExecuteTime": {
     "end_time": "2024-07-12T11:19:07.406325600Z",
     "start_time": "2024-07-12T11:19:06.740091600Z"
    }
   },
   "id": "4a1135ca",
   "execution_count": 16
  }
 ],
 "metadata": {
  "kernelspec": {
   "name": "python3",
   "language": "python",
   "display_name": "Python 3 (ipykernel)"
  },
  "language_info": {
   "codemirror_mode": {
    "name": "ipython",
    "version": 3
   },
   "file_extension": ".py",
   "mimetype": "text/x-python",
   "name": "python",
   "nbconvert_exporter": "python",
   "pygments_lexer": "ipython3",
   "version": "3.10.11"
  }
 },
 "nbformat": 4,
 "nbformat_minor": 5
}
